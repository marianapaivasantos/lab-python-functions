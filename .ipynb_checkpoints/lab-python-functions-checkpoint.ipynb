{
 "cells": [
  {
   "cell_type": "markdown",
   "id": "25d7736c-ba17-4aff-b6bb-66eba20fbf4e",
   "metadata": {},
   "source": [
    "# Lab | Functions"
   ]
  },
  {
   "cell_type": "markdown",
   "id": "0c581062-8967-4d93-b06e-62833222f930",
   "metadata": {
    "tags": []
   },
   "source": [
    "## Exercise: Managing Customer Orders with Functions\n",
    "\n",
    "In the previous exercise, you improved the code for managing customer orders by using loops and flow control. Now, let's take it a step further and refactor the code by introducing functions.\n",
    "\n",
    "Follow the steps below to complete the exercise:\n",
    "\n",
    "1. Define a function named `initialize_inventory` that takes `products` as a parameter. Inside the function, implement the code for initializing the inventory dictionary using a loop and user input.\n",
    "\n",
    "2. Define a function named `get_customer_orders` that takes no parameters. Inside the function, implement the code for prompting the user to enter the product names using a loop. The function should return the `customer_orders` set.\n",
    "\n",
    "3. Define a function named `update_inventory` that takes `customer_orders` and `inventory` as parameters. Inside the function, implement the code for updating the inventory dictionary based on the customer orders.\n",
    "\n",
    "4. Define a function named `calculate_order_statistics` that takes `customer_orders` and `products` as parameters. Inside the function, implement the code for calculating the order statistics (total products ordered, and percentage of unique products ordered). The function should return these values.\n",
    "\n",
    "5. Define a function named `print_order_statistics` that takes `order_statistics` as a parameter. Inside the function, implement the code for printing the order statistics.\n",
    "\n",
    "6. Define a function named `print_updated_inventory` that takes `inventory` as a parameter. Inside the function, implement the code for printing the updated inventory.\n",
    "\n",
    "7. Call the functions in the appropriate sequence to execute the program and manage customer orders.\n",
    "\n",
    "Hints for functions:\n",
    "\n",
    "- Consider the input parameters required for each function and their return values.\n",
    "- Utilize function parameters and return values to transfer data between functions.\n",
    "- Test your functions individually to ensure they work correctly.\n",
    "\n",
    "\n"
   ]
  },
  {
   "cell_type": "code",
   "execution_count": 25,
   "id": "f69f4aaf",
   "metadata": {},
   "outputs": [
    {
     "name": "stdout",
     "output_type": "stream",
     "text": [
      "Enter the quantity of t-shirt: 2\n",
      "Enter the quantity of mug: 3\n",
      "Enter the quantity of hat: 4\n",
      "Enter the quantity of book: 5\n",
      "Enter the quantity of keychain: 6\n",
      "What does the client wants to order from our inventory? mug\n",
      "Do you want to add another product? (yes/no)yes\n",
      "What does the client wants to order from our inventory? hat\n",
      "Do you want to add another product? (yes/no)no\n",
      "Customer Orders: {'mug', 'hat'}\n",
      "The updated inventory for the ordered items is: \n",
      "mug: 2\n",
      "hat: 3\n",
      "Order Statistics: \n",
      "Total Products Ordered:  2\n",
      "Percentage of Products Ordered:  10.0  %\n",
      "Now, the updated inventory is: \n",
      "t-shirt : 2\n",
      "mug : 1\n",
      "hat : 2\n",
      "book : 5\n",
      "keychain : 6\n"
     ]
    }
   ],
   "source": [
    "products = [\"t-shirt\", \"mug\", \"hat\", \"book\", \"keychain\"]\n",
    "\n",
    "def initialize_inventory(products):\n",
    "    inventory = {}\n",
    "    for product in products:\n",
    "        quantity = int(input(f\"Enter the quantity of {product}: \"))\n",
    "        inventory[product] = quantity\n",
    "    return inventory\n",
    "\n",
    "inventory = initialize_inventory(products)\n",
    "inventory\n",
    "\n",
    "def get_customer_orders():\n",
    "    customer_orders = set()\n",
    "    x = \"yes\"\n",
    "    while x == \"yes\":\n",
    "        product = input(\"What does the client wants to order from our inventory? \")\n",
    "        customer_orders.add(product)\n",
    "        x = input(\"Do you want to add another product? (yes/no)\")\n",
    "    return customer_orders\n",
    "\n",
    "customer_orders = get_customer_orders()\n",
    "print(\"Customer Orders:\", customer_orders)\n",
    "\n",
    "def update_inventory(customer_orders, inventory):\n",
    "    for ordered_item in customer_orders:\n",
    "        if ordered_item in inventory and inventory[ordered_item] > 0:\n",
    "            inventory[ordered_item] -= 1\n",
    "            print(f\"{ordered_item}: {inventory[ordered_item]}\")\n",
    "print(\"The updated inventory for the ordered items is: \")        \n",
    "update_inventory(customer_orders, inventory)\n",
    "\n",
    "def calculate_order_statistics(customer_orders, inventory):\n",
    "    total_products_ordered = len(customer_orders)\n",
    "    total_inventory = sum(inventory.values())\n",
    "    percentage_products_ordered = (total_products_ordered / total_inventory) * 100\n",
    "    order_statistics = {\n",
    "        \"total_products_ordered\": total_products_ordered,\n",
    "        \"percentage_products_ordered\": percentage_products_ordered\n",
    "    }\n",
    "    return order_statistics\n",
    "\n",
    "\n",
    "def print_order_statistics(order_statistics):\n",
    "    print(\"Order Statistics: \")\n",
    "    print(\"Total Products Ordered: \", order_statistics[\"total_products_ordered\"])\n",
    "    print(\"Percentage of Products Ordered: \", order_statistics[\"percentage_products_ordered\"], \" %\")\n",
    "    return order_statistics[\"total_products_ordered\"], order_statistics[\"percentage_products_ordered\"]\n",
    "\n",
    "stats = print_order_statistics(order_statistics) \n",
    "\n",
    "def print_updated_inventory(inventory, customer_orders):\n",
    "    for ordered_item in customer_orders:\n",
    "        if ordered_item in inventory:\n",
    "            inventory[ordered_item] -= 1\n",
    "    print(\"Now, the updated inventory is: \")\n",
    "    for product, quantity in inventory.items():\n",
    "        print(product, \":\", quantity)\n",
    "\n",
    "print_updated_inventory(inventory, customer_orders)\n"
   ]
  },
  {
   "cell_type": "code",
   "execution_count": null,
   "id": "4a3e42bd",
   "metadata": {},
   "outputs": [],
   "source": []
  },
  {
   "cell_type": "code",
   "execution_count": null,
   "id": "4688e230",
   "metadata": {},
   "outputs": [],
   "source": []
  }
 ],
 "metadata": {
  "kernelspec": {
   "display_name": "Python 3 (ipykernel)",
   "language": "python",
   "name": "python3"
  },
  "language_info": {
   "codemirror_mode": {
    "name": "ipython",
    "version": 3
   },
   "file_extension": ".py",
   "mimetype": "text/x-python",
   "name": "python",
   "nbconvert_exporter": "python",
   "pygments_lexer": "ipython3",
   "version": "3.11.5"
  }
 },
 "nbformat": 4,
 "nbformat_minor": 5
}
